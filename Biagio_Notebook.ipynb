{
 "cells": [
  {
   "cell_type": "markdown",
   "id": "1e287769",
   "metadata": {},
   "source": [
    "# Import Modules"
   ]
  },
  {
   "cell_type": "code",
   "execution_count": 187,
   "id": "7e21b877",
   "metadata": {},
   "outputs": [],
   "source": [
    "import numpy as np\n",
    "import pandas as pd\n",
    "import matplotlib.pyplot as plt\n",
    "import seaborn as sns\n",
    "\n",
    "from matplotlib.gridspec import GridSpec\n",
    "\n",
    "from datetime import datetime, timedelta\n",
    "\n",
    "from sklearn.preprocessing import OneHotEncoder, LabelEncoder"
   ]
  },
  {
   "cell_type": "code",
   "execution_count": 188,
   "id": "ae4d89e6",
   "metadata": {},
   "outputs": [
    {
     "data": {
      "text/html": [
       "<div>\n",
       "<style scoped>\n",
       "    .dataframe tbody tr th:only-of-type {\n",
       "        vertical-align: middle;\n",
       "    }\n",
       "\n",
       "    .dataframe tbody tr th {\n",
       "        vertical-align: top;\n",
       "    }\n",
       "\n",
       "    .dataframe thead th {\n",
       "        text-align: right;\n",
       "    }\n",
       "</style>\n",
       "<table border=\"1\" class=\"dataframe\">\n",
       "  <thead>\n",
       "    <tr style=\"text-align: right;\">\n",
       "      <th></th>\n",
       "      <th>age</th>\n",
       "      <th>job</th>\n",
       "      <th>marital</th>\n",
       "      <th>education</th>\n",
       "      <th>default</th>\n",
       "      <th>balance</th>\n",
       "      <th>housing</th>\n",
       "      <th>loan</th>\n",
       "      <th>contact</th>\n",
       "      <th>day</th>\n",
       "      <th>month</th>\n",
       "      <th>duration</th>\n",
       "      <th>campaign</th>\n",
       "      <th>pdays</th>\n",
       "      <th>previous</th>\n",
       "      <th>poutcome</th>\n",
       "      <th>Target</th>\n",
       "    </tr>\n",
       "  </thead>\n",
       "  <tbody>\n",
       "    <tr>\n",
       "      <th>0</th>\n",
       "      <td>58</td>\n",
       "      <td>management</td>\n",
       "      <td>married</td>\n",
       "      <td>tertiary</td>\n",
       "      <td>no</td>\n",
       "      <td>2143</td>\n",
       "      <td>yes</td>\n",
       "      <td>no</td>\n",
       "      <td>unknown</td>\n",
       "      <td>5</td>\n",
       "      <td>may</td>\n",
       "      <td>261</td>\n",
       "      <td>1</td>\n",
       "      <td>-1</td>\n",
       "      <td>0</td>\n",
       "      <td>unknown</td>\n",
       "      <td>no</td>\n",
       "    </tr>\n",
       "    <tr>\n",
       "      <th>1</th>\n",
       "      <td>44</td>\n",
       "      <td>technician</td>\n",
       "      <td>single</td>\n",
       "      <td>secondary</td>\n",
       "      <td>no</td>\n",
       "      <td>29</td>\n",
       "      <td>yes</td>\n",
       "      <td>no</td>\n",
       "      <td>unknown</td>\n",
       "      <td>5</td>\n",
       "      <td>may</td>\n",
       "      <td>151</td>\n",
       "      <td>1</td>\n",
       "      <td>-1</td>\n",
       "      <td>0</td>\n",
       "      <td>unknown</td>\n",
       "      <td>no</td>\n",
       "    </tr>\n",
       "    <tr>\n",
       "      <th>2</th>\n",
       "      <td>33</td>\n",
       "      <td>entrepreneur</td>\n",
       "      <td>married</td>\n",
       "      <td>secondary</td>\n",
       "      <td>no</td>\n",
       "      <td>2</td>\n",
       "      <td>yes</td>\n",
       "      <td>yes</td>\n",
       "      <td>unknown</td>\n",
       "      <td>5</td>\n",
       "      <td>may</td>\n",
       "      <td>76</td>\n",
       "      <td>1</td>\n",
       "      <td>-1</td>\n",
       "      <td>0</td>\n",
       "      <td>unknown</td>\n",
       "      <td>no</td>\n",
       "    </tr>\n",
       "    <tr>\n",
       "      <th>3</th>\n",
       "      <td>47</td>\n",
       "      <td>blue-collar</td>\n",
       "      <td>married</td>\n",
       "      <td>unknown</td>\n",
       "      <td>no</td>\n",
       "      <td>1506</td>\n",
       "      <td>yes</td>\n",
       "      <td>no</td>\n",
       "      <td>unknown</td>\n",
       "      <td>5</td>\n",
       "      <td>may</td>\n",
       "      <td>92</td>\n",
       "      <td>1</td>\n",
       "      <td>-1</td>\n",
       "      <td>0</td>\n",
       "      <td>unknown</td>\n",
       "      <td>no</td>\n",
       "    </tr>\n",
       "    <tr>\n",
       "      <th>4</th>\n",
       "      <td>33</td>\n",
       "      <td>unknown</td>\n",
       "      <td>single</td>\n",
       "      <td>unknown</td>\n",
       "      <td>no</td>\n",
       "      <td>1</td>\n",
       "      <td>no</td>\n",
       "      <td>no</td>\n",
       "      <td>unknown</td>\n",
       "      <td>5</td>\n",
       "      <td>may</td>\n",
       "      <td>198</td>\n",
       "      <td>1</td>\n",
       "      <td>-1</td>\n",
       "      <td>0</td>\n",
       "      <td>unknown</td>\n",
       "      <td>no</td>\n",
       "    </tr>\n",
       "  </tbody>\n",
       "</table>\n",
       "</div>"
      ],
      "text/plain": [
       "   age           job  marital  education default  balance housing loan  \\\n",
       "0   58    management  married   tertiary      no     2143     yes   no   \n",
       "1   44    technician   single  secondary      no       29     yes   no   \n",
       "2   33  entrepreneur  married  secondary      no        2     yes  yes   \n",
       "3   47   blue-collar  married    unknown      no     1506     yes   no   \n",
       "4   33       unknown   single    unknown      no        1      no   no   \n",
       "\n",
       "   contact  day month  duration  campaign  pdays  previous poutcome Target  \n",
       "0  unknown    5   may       261         1     -1         0  unknown     no  \n",
       "1  unknown    5   may       151         1     -1         0  unknown     no  \n",
       "2  unknown    5   may        76         1     -1         0  unknown     no  \n",
       "3  unknown    5   may        92         1     -1         0  unknown     no  \n",
       "4  unknown    5   may       198         1     -1         0  unknown     no  "
      ]
     },
     "execution_count": 188,
     "metadata": {},
     "output_type": "execute_result"
    }
   ],
   "source": [
    "df = pd.read_csv('Data/bank-full.csv')\n",
    "df.head()"
   ]
  },
  {
   "cell_type": "markdown",
   "id": "7bae8b4c",
   "metadata": {},
   "source": [
    "# Exploratory Data Analysis (EDA)"
   ]
  },
  {
   "cell_type": "code",
   "execution_count": 189,
   "id": "97e8bfb6",
   "metadata": {},
   "outputs": [
    {
     "data": {
      "image/png": "[encoded data removed]",
      "text/plain": [
       "<Figure size 1080x576 with 1 Axes>"
      ]
     },
     "metadata": {
      "needs_background": "light"
     },
     "output_type": "display_data"
    }
   ],
   "source": [
    "target = df[df['Target']=='yes']\n",
    "\n",
    "plt.figure(figsize=(15,8))\n",
    "sns.countplot(x='age', hue='Target', data=target)\n",
    "plt.xticks(rotation=90);"
   ]
  },
  {
   "cell_type": "code",
   "execution_count": 190,
   "id": "347fb7b5",
   "metadata": {},
   "outputs": [],
   "source": [
    "def age_segmenting(x):\n",
    "    if x>=18 and x<=25:\n",
    "        return '18-25'\n",
    "    \n",
    "    elif x>25 and x<=40:\n",
    "        return '25-40'\n",
    "    \n",
    "    elif x>40 and x<=65:\n",
    "        return '40-65'\n",
    "    \n",
    "    else:\n",
    "        return '65+'\n",
    "\n",
    "df['age'] = df['age'].map(age_segmenting)"
   ]
  },
  {
   "cell_type": "code",
   "execution_count": 191,
   "id": "45991ca0",
   "metadata": {},
   "outputs": [
    {
     "data": {
      "image/png": "[encoded data removed]",
      "text/plain": [
       "<Figure size 864x720 with 3 Axes>"
      ]
     },
     "metadata": {
      "needs_background": "light"
     },
     "output_type": "display_data"
    }
   ],
   "source": [
    "target = df[df['Target']=='yes']\n",
    "\n",
    "fig = plt.figure(figsize=(12,10))\n",
    "spec2 = GridSpec(ncols=2, nrows=2, figure=fig)\n",
    "ax1 = fig.add_subplot(spec2[0, 0:])\n",
    "ax2 = fig.add_subplot(spec2[1, 0])\n",
    "ax3 = fig.add_subplot(spec2[1, 1])\n",
    "\n",
    "\n",
    "ax1.set_title('Target per Age', size=16)\n",
    "sns.countplot(x='age', order=['18-25','25-40','40-65','65+'], data=target, ax=ax1)\n",
    "ax1.set_ylabel('Num of Exited Clients')\n",
    "\n",
    "ax2.set_title('Target per Education', size=13)\n",
    "sns.countplot(x='education', hue='age', hue_order=['18-25','25-40','40-65','65+'], data=target, ax=ax2)\n",
    "ax2.set_ylabel('Num of Exited Clients')\n",
    "\n",
    "ax3.set_title('Target per Marital', size=13)\n",
    "sns.countplot(x='marital', hue='age', hue_order=['18-25','25-40','40-65','65+'], data=target, ax=ax3)\n",
    "ax3.set_ylabel('Num of Exited Clients')\n",
    "\n",
    "\n",
    "plt.show()"
   ]
  },
  {
   "cell_type": "code",
   "execution_count": 200,
   "id": "f9abc136",
   "metadata": {},
   "outputs": [
    {
     "data": {
      "image/png": "[encoded data removed]",
      "text/plain": [
       "<Figure size 864x2160 with 1 Axes>"
      ]
     },
     "metadata": {
      "needs_background": "light"
     },
     "output_type": "display_data"
    }
   ],
   "source": [
    "target = df[df['Target']=='yes']\n",
    "\n",
    "fig = plt.figure(figsize=(12,30))\n",
    "spec2 = GridSpec(ncols=2, nrows=2, figure=fig)\n",
    "ax1 = fig.add_subplot(spec2[0, 0:])\n",
    "\n",
    "ax1.set_title('Target per Job', size=16)\n",
    "sns.countplot(y='job', hue='age', data=target, ax=ax1)\n",
    "ax1.set_xlabel('Num of Target Clients')\n",
    "ax1.set_ylabel(ax1.get_ylabel().upper(), size=14)\n",
    "\n",
    "plt.show()"
   ]
  },
  {
   "cell_type": "markdown",
   "id": "608ef2c7",
   "metadata": {},
   "source": [
    "# Preprocessing"
   ]
  },
  {
   "cell_type": "markdown",
   "id": "363cdd09",
   "metadata": {},
   "source": [
    "## Converting Categorical values"
   ]
  },
  {
   "cell_type": "code",
   "execution_count": 183,
   "id": "ef9de59e",
   "metadata": {
    "scrolled": true
   },
   "outputs": [],
   "source": [
    "def encoding_cat(data, *out):\n",
    "    \"\"\"This function converts all the categorical values of the DataFrame \"data\" into [0,1].\n",
    "    \n",
    "       It uses OneHotEncoder for multiple categorical values (>2)\n",
    "       It uses LabelEncoder for binary categorical values\n",
    "       \n",
    "       - data: Pandas DataFrame\n",
    "       - out: Columns of DataFrame that we don't want to convert\n",
    "    \"\"\"\n",
    "    columns = data.keys()\n",
    "    \n",
    "    for col in columns:\n",
    "        # Sometime not all the columns are need\n",
    "        if col not in out:\n",
    "            labels = list(data[col].unique())\n",
    "            labels.sort()\n",
    "            \n",
    "            # Only with categorical values\n",
    "            if isinstance(labels[0], str):\n",
    "                \n",
    "                # OneHotEncoder\n",
    "                if len(labels)>2:\n",
    "                    ohe = OneHotEncoder(sparse=False)\n",
    "                    data[labels]=ohe.fit_transform(data[[col]])\n",
    "                    data.drop(columns=col, inplace=True)\n",
    "                \n",
    "                # LabelEncoder\n",
    "                else:\n",
    "                    le = LabelEncoder()\n",
    "                    data[col]=le.fit_transform(data[col])\n",
    "    return data\n",
    "\n",
    "df = encoding_cat(df, 'month')"
   ]
  },
  {
   "cell_type": "markdown",
   "id": "cd51b75f",
   "metadata": {},
   "source": [
    "## Converting date to cyclic value"
   ]
  },
  {
   "cell_type": "code",
   "execution_count": 184,
   "id": "759cd04b",
   "metadata": {},
   "outputs": [],
   "source": [
    "df['date'] =  pd.to_datetime(df['month'] +' '+ df['day'].astype(str) + ' 2021', format=('%b %d %Y'))\n",
    "df.drop(columns =['day','month'], inplace=True)\n",
    "days_per_month = 365.25/12\n",
    "df['date'] = df['date'].dt.month + df['date'].dt.day/days_per_month\n",
    "df['date'] = np.sin(df['date']/df['date'].max())"
   ]
  },
  {
   "cell_type": "code",
   "execution_count": 185,
   "id": "ec56e380",
   "metadata": {},
   "outputs": [
    {
     "data": {
      "text/html": [
       "<div>\n",
       "<style scoped>\n",
       "    .dataframe tbody tr th:only-of-type {\n",
       "        vertical-align: middle;\n",
       "    }\n",
       "\n",
       "    .dataframe tbody tr th {\n",
       "        vertical-align: top;\n",
       "    }\n",
       "\n",
       "    .dataframe thead th {\n",
       "        text-align: right;\n",
       "    }\n",
       "</style>\n",
       "<table border=\"1\" class=\"dataframe\">\n",
       "  <thead>\n",
       "    <tr style=\"text-align: right;\">\n",
       "      <th></th>\n",
       "      <th>default</th>\n",
       "      <th>balance</th>\n",
       "      <th>housing</th>\n",
       "      <th>loan</th>\n",
       "      <th>duration</th>\n",
       "      <th>campaign</th>\n",
       "      <th>pdays</th>\n",
       "      <th>previous</th>\n",
       "      <th>Target</th>\n",
       "      <th>18-25</th>\n",
       "      <th>...</th>\n",
       "      <th>single</th>\n",
       "      <th>primary</th>\n",
       "      <th>secondary</th>\n",
       "      <th>tertiary</th>\n",
       "      <th>cellular</th>\n",
       "      <th>telephone</th>\n",
       "      <th>failure</th>\n",
       "      <th>other</th>\n",
       "      <th>success</th>\n",
       "      <th>date</th>\n",
       "    </tr>\n",
       "  </thead>\n",
       "  <tbody>\n",
       "    <tr>\n",
       "      <th>0</th>\n",
       "      <td>0</td>\n",
       "      <td>2143</td>\n",
       "      <td>1</td>\n",
       "      <td>0</td>\n",
       "      <td>261</td>\n",
       "      <td>1</td>\n",
       "      <td>-1</td>\n",
       "      <td>0</td>\n",
       "      <td>0</td>\n",
       "      <td>0.0</td>\n",
       "      <td>...</td>\n",
       "      <td>0.0</td>\n",
       "      <td>0.0</td>\n",
       "      <td>0.0</td>\n",
       "      <td>1.0</td>\n",
       "      <td>0.0</td>\n",
       "      <td>0.0</td>\n",
       "      <td>0.0</td>\n",
       "      <td>0.0</td>\n",
       "      <td>0.0</td>\n",
       "      <td>0.386365</td>\n",
       "    </tr>\n",
       "    <tr>\n",
       "      <th>1</th>\n",
       "      <td>0</td>\n",
       "      <td>29</td>\n",
       "      <td>1</td>\n",
       "      <td>0</td>\n",
       "      <td>151</td>\n",
       "      <td>1</td>\n",
       "      <td>-1</td>\n",
       "      <td>0</td>\n",
       "      <td>0</td>\n",
       "      <td>0.0</td>\n",
       "      <td>...</td>\n",
       "      <td>1.0</td>\n",
       "      <td>0.0</td>\n",
       "      <td>1.0</td>\n",
       "      <td>0.0</td>\n",
       "      <td>0.0</td>\n",
       "      <td>0.0</td>\n",
       "      <td>0.0</td>\n",
       "      <td>0.0</td>\n",
       "      <td>0.0</td>\n",
       "      <td>0.386365</td>\n",
       "    </tr>\n",
       "  </tbody>\n",
       "</table>\n",
       "<p>2 rows × 37 columns</p>\n",
       "</div>"
      ],
      "text/plain": [
       "   default  balance  housing  loan  duration  campaign  pdays  previous  \\\n",
       "0        0     2143        1     0       261         1     -1         0   \n",
       "1        0       29        1     0       151         1     -1         0   \n",
       "\n",
       "   Target  18-25  ...  single  primary  secondary  tertiary  cellular  \\\n",
       "0       0    0.0  ...     0.0      0.0        0.0       1.0       0.0   \n",
       "1       0    0.0  ...     1.0      0.0        1.0       0.0       0.0   \n",
       "\n",
       "   telephone  failure  other  success      date  \n",
       "0        0.0      0.0    0.0      0.0  0.386365  \n",
       "1        0.0      0.0    0.0      0.0  0.386365  \n",
       "\n",
       "[2 rows x 37 columns]"
      ]
     },
     "execution_count": 185,
     "metadata": {},
     "output_type": "execute_result"
    }
   ],
   "source": [
    "df.head(2)"
   ]
  },
  {
   "cell_type": "code",
   "execution_count": null,
   "id": "9679a0b5",
   "metadata": {},
   "outputs": [],
   "source": []
  },
  {
   "cell_type": "code",
   "execution_count": null,
   "id": "ef1871df",
   "metadata": {},
   "outputs": [],
   "source": []
  }
 ],
 "metadata": {
  "kernelspec": {
   "display_name": "Python 3",
   "language": "python",
   "name": "python3"
  },
  "language_info": {
   "codemirror_mode": {
    "name": "ipython",
    "version": 3
   },
   "file_extension": ".py",
   "mimetype": "text/x-python",
   "name": "python",
   "nbconvert_exporter": "python",
   "pygments_lexer": "ipython3",
   "version": "3.8.6"
  },
  "toc": {
   "base_numbering": 1,
   "nav_menu": {},
   "number_sections": true,
   "sideBar": true,
   "skip_h1_title": false,
   "title_cell": "Table of Contents",
   "title_sidebar": "Contents",
   "toc_cell": false,
   "toc_position": {},
   "toc_section_display": true,
   "toc_window_display": false
  }
 },
 "nbformat": 4,
 "nbformat_minor": 5
}
